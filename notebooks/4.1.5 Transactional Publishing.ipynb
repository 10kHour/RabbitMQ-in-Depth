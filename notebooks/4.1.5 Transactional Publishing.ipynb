{
 "metadata": {
  "name": ""
 },
 "nbformat": 3,
 "nbformat_minor": 0,
 "worksheets": [
  {
   "cells": [
    {
     "cell_type": "code",
     "collapsed": false,
     "input": [
      "import rabbitpy"
     ],
     "language": "python",
     "metadata": {},
     "outputs": [],
     "prompt_number": 1
    },
    {
     "cell_type": "code",
     "collapsed": false,
     "input": [
      "with rabbitpy.Connection() as connection:\n",
      "    with connection.channel() as channel:           \n",
      "        tx = rabbitpy.Tx(channel)\n",
      "        tx.select()\n",
      "        message = rabbitpy.Message(channel,\n",
      "                                'This is an important message',    \n",
      "                                {'content_type': 'text/plain',\n",
      "                                 'delivery_mode': 2,               \n",
      "                                 'message_type': 'important'}) \n",
      "        message.publish('chapter4-example', 'important.message')\n",
      "        try:\n",
      "            if tx.commit():     \n",
      "                print('Transaction committed')             \n",
      "        except rabbitpy.exceptions.NoActiveTransactionError:\n",
      "            print('Tried to commit without active transaction')"
     ],
     "language": "python",
     "metadata": {},
     "outputs": []
    }
   ],
   "metadata": {}
  }
 ]
}