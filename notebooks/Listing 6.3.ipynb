{
 "metadata": {
  "name": ""
 },
 "nbformat": 3,
 "nbformat_minor": 0,
 "worksheets": [
  {
   "cells": [
    {
     "cell_type": "code",
     "collapsed": false,
     "input": [
      "import rabbitpy\n",
      "\n",
      "with rabbitpy.Connection() as connection:\n",
      "    with connection.channel() as channel:\n",
      "        exchange = rabbitpy.Exchange(channel, 'fanout-rpc-requests', \n",
      "                                     exchange_type='fanout')\n",
      "        exchange.declare()\n",
      "print 'Exchanges declared'"
     ],
     "language": "python",
     "metadata": {},
     "outputs": [
      {
       "output_type": "stream",
       "stream": "stdout",
       "text": [
        "Exchanges declared\n"
       ]
      }
     ],
     "prompt_number": "*"
    }
   ],
   "metadata": {}
  }
 ]
}
