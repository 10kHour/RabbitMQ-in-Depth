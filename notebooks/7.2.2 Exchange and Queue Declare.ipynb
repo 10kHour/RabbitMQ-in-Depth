{
 "metadata": {
  "name": ""
 },
 "nbformat": 3,
 "nbformat_minor": 0,
 "worksheets": [
  {
   "cells": [
    {
     "cell_type": "code",
     "collapsed": false,
     "input": [
      "import rabbitpy"
     ],
     "language": "python",
     "metadata": {},
     "outputs": [],
     "prompt_number": 2
    },
    {
     "cell_type": "code",
     "collapsed": false,
     "input": [
      "with rabbitpy.Connection() as connection:\n",
      "    with connection.channel() as channel:\n",
      "        exchange = rabbitpy.Exchange(channel, 'stomp-routing')\n",
      "        exchange.declare()\n",
      "        queue = rabbitpy.Queue(channel, 'bound-queue', \n",
      "                               arguments={'x-max-length': 10})\n",
      "        queue.declare()\n",
      "        queue.bind(exchange, 'example')"
     ],
     "language": "python",
     "metadata": {},
     "outputs": [],
     "prompt_number": 3
    },
    {
     "cell_type": "code",
     "collapsed": false,
     "input": [],
     "language": "python",
     "metadata": {},
     "outputs": []
    }
   ],
   "metadata": {}
  }
 ]
}