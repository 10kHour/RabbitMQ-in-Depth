{
 "metadata": {
  "name": ""
 },
 "nbformat": 3,
 "nbformat_minor": 0,
 "worksheets": [
  {
   "cells": [
    {
     "cell_type": "code",
     "collapsed": false,
     "input": [
      "import rabbitpy\n",
      "import time"
     ],
     "language": "python",
     "metadata": {},
     "outputs": [],
     "prompt_number": 1
    },
    {
     "cell_type": "code",
     "collapsed": false,
     "input": [
      "with rabbitpy.Connection() as connection:\n",
      "    with connection.channel() as channel:\n",
      "        queue = rabbitpy.Queue(channel, 'expiring-queue', \n",
      "                            arguments={'x-expires': 1000})\n",
      "        queue.declare() \n",
      "        print queue.declare(passive=True)\n",
      "        time.sleep(2)\n",
      "        print queue.declare(passive=True)"
     ],
     "language": "python",
     "metadata": {},
     "outputs": []
    }
   ],
   "metadata": {}
  }
 ]
}