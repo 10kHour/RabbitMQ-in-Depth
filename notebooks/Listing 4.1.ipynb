{
 "metadata": {
  "name": ""
 },
 "nbformat": 3,
 "nbformat_minor": 0,
 "worksheets": [
  {
   "cells": [
    {
     "cell_type": "code",
     "collapsed": false,
     "input": [
      "import datetime\n",
      "import rabbitpy"
     ],
     "language": "python",
     "metadata": {},
     "outputs": [],
     "prompt_number": "*"
    },
    {
     "cell_type": "code",
     "collapsed": false,
     "input": [
      "with rabbitpy.Connection() as connection:\n",
      "    with connection.channel() as channel:\n",
      "        # Create the message to send\n",
      "        body = 'server.cpu.utilization 25.5 1350884514'\n",
      "        message = rabbitpy.Message(channel,\n",
      "                                   body,\n",
      "                                   {'content_type': 'text/plain',\n",
      "                                    'timestamp': datetime.datetime.now(),\n",
      "                                    'message_type': 'graphite metric'})\n",
      "\n",
      "        # Publish the message to the exchange with the routing key \n",
      "        # \"server-metrics\" and make sure it is routed to the exchange\n",
      "        message.publish('chapter2-example', 'server-metrics', mandatory=True)\n"
     ],
     "language": "python",
     "metadata": {},
     "outputs": [],
     "prompt_number": "*"
    }
   ],
   "metadata": {}
  }
 ]
}