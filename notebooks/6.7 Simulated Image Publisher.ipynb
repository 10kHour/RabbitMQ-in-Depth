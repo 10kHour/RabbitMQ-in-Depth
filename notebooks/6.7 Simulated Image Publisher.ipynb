{
 "metadata": {
  "name": ""
 },
 "nbformat": 3,
 "nbformat_minor": 0,
 "worksheets": [
  {
   "cells": [
    {
     "cell_type": "code",
     "collapsed": false,
     "input": [
      "import datetime\n",
      "import hashlib\n",
      "import rabbitpy"
     ],
     "language": "python",
     "metadata": {},
     "outputs": [],
     "prompt_number": 1
    },
    {
     "cell_type": "code",
     "collapsed": false,
     "input": [
      "with rabbitpy.Connection() as connection:                              #A\n",
      "    with connection.channel() as channel:                              #B\n",
      "        for iteration in range(100000):                                #C\n",
      "            timestamp = datetime.datetime.now().isoformat()            #D\n",
      "            hash_value = hashlib.md5('%s:%s' % (timestamp, iteration)) #E\n",
      "            msg = rabbitpy.Message(channel, 'Image # %i' % iteration,  #F\n",
      "                                    {'headers': \n",
      "                                     {'image-hash': \n",
      "                                      str(hash_value.hexdigest()}})\n",
      "            msg.publish('image-storage')                               #G"
     ],
     "language": "python",
     "metadata": {},
     "outputs": []
    }
   ],
   "metadata": {}
  }
 ]
}