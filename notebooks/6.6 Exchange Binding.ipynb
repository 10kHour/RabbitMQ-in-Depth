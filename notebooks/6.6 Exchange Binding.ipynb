{
 "metadata": {
  "name": ""
 },
 "nbformat": 3,
 "nbformat_minor": 0,
 "worksheets": [
  {
   "cells": [
    {
     "cell_type": "code",
     "collapsed": false,
     "input": [
      "import rabbitpy"
     ],
     "language": "python",
     "metadata": {},
     "outputs": [],
     "prompt_number": 1
    },
    {
     "cell_type": "code",
     "collapsed": false,
     "input": [
      "with rabbitpy.Connection() as connection:\n",
      "    with connection.channel() as channel:\n",
      "        tpc = rabbitpy.Exchange(channel, 'events', \n",
      "                                exchange_type='topic')\n",
      "        tpc.declare()\n",
      "        xch = rabbitpy.Exchange(channel, 'distributed-events',\n",
      "                                exchange_type='x-consistent-hash')\n",
      "        xch.declare()\n",
      "        xch.bind(tpc, '#')"
     ],
     "language": "python",
     "metadata": {},
     "outputs": []
    }
   ],
   "metadata": {}
  }
 ]
}