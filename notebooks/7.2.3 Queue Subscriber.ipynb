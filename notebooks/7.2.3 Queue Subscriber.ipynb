{
 "metadata": {
  "name": ""
 },
 "nbformat": 3,
 "nbformat_minor": 0,
 "worksheets": [
  {
   "cells": [
    {
     "cell_type": "code",
     "collapsed": false,
     "input": [
      "import stomp\n",
      "import pprint\n",
      "import time"
     ],
     "language": "python",
     "metadata": {},
     "outputs": []
    },
    {
     "cell_type": "code",
     "collapsed": false,
     "input": [
      "class Listener(stomp.ConnectionListener):\n",
      "\n",
      "    can_stop = False\n",
      "    def on_message(self, headers, message):\n",
      "        if headers:\n",
      "            print('\\nHeaders:\\n')\n",
      "            pprint.pprint(headers)\n",
      "        print('\\nMessage Body:\\n')\n",
      "        print(message)\n",
      "        self.can_stop = True"
     ],
     "language": "python",
     "metadata": {},
     "outputs": []
    },
    {
     "cell_type": "code",
     "collapsed": false,
     "input": [
      "listener = Listener()"
     ],
     "language": "python",
     "metadata": {},
     "outputs": []
    },
    {
     "cell_type": "code",
     "collapsed": false,
     "input": [
      "conn = stomp.Connection()\n",
      "conn.set_listener('', listener)\n",
      "conn.start()\n",
      "conn.connect()"
     ],
     "language": "python",
     "metadata": {},
     "outputs": []
    },
    {
     "cell_type": "code",
     "collapsed": false,
     "input": [
      "conn.subscribe('/queue/stomp-messages', id=1, ack='auto')"
     ],
     "language": "python",
     "metadata": {},
     "outputs": []
    },
    {
     "cell_type": "code",
     "collapsed": false,
     "input": [
      "while not listener.can_stop:\n",
      "\ttime.sleep(1)"
     ],
     "language": "python",
     "metadata": {},
     "outputs": []
    },
    {
     "cell_type": "code",
     "collapsed": false,
     "input": [
      "conn.disconnect()"
     ],
     "language": "python",
     "metadata": {},
     "outputs": []
    }
   ],
   "metadata": {}
  }
 ]
}
