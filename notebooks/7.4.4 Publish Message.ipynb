{
 "metadata": {
  "name": ""
 },
 "nbformat": 3,
 "nbformat_minor": 0,
 "worksheets": [
  {
   "cells": [
    {
     "cell_type": "code",
     "collapsed": false,
     "input": [
      "import requests"
     ],
     "language": "python",
     "metadata": {},
     "outputs": [],
     "prompt_number": 1
    },
    {
     "cell_type": "code",
     "collapsed": false,
     "input": [
      "payload = {'body': 'from statelessd', 'app_id': 'example'}\n",
      "response = requests.post('http://localhost:8900/%2f/amq.topic/example',\n",
      "\t\t\t\t\t\t  auth=('guest', 'guest'),\n",
      "\t\t\t\t\t\t  data=payload)"
     ],
     "language": "python",
     "metadata": {},
     "outputs": []
    }
   ],
   "metadata": {}
  }
 ]
}