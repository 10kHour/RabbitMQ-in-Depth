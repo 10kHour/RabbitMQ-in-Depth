{
 "metadata": {
  "name": ""
 },
 "nbformat": 3,
 "nbformat_minor": 0,
 "worksheets": [
  {
   "cells": [
    {
     "cell_type": "code",
     "collapsed": false,
     "input": [
      "import rabbitpy"
     ],
     "language": "python",
     "metadata": {},
     "outputs": [],
     "prompt_number": 1
    },
    {
     "cell_type": "code",
     "collapsed": false,
     "input": [
      "with rabbitpy.Connection(url) as connection:\n",
      "    with connection.channel() as channel:\n",
      "        channel.prefetch_count (10)\n",
      "        queue = rabbitpy.Queue(channel, 'example')\n",
      "        unacknowledged = 0\n",
      "        for message in consumer.consume_messages():\n",
      "            print message.body\n",
      "            unacknowledged += 1\n",
      "            if unacknowledged == 10:\n",
      "                message.ack(all_previous=True)\n",
      "                unacknowledged = 0"
     ],
     "language": "python",
     "metadata": {},
     "outputs": []
    }
   ],
   "metadata": {}
  }
 ]
}