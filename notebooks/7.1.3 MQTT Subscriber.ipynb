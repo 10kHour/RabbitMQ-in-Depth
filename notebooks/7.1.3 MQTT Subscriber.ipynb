{
 "metadata": {
  "name": ""
 },
 "nbformat": 3,
 "nbformat_minor": 0,
 "worksheets": [
  {
   "cells": [
    {
     "cell_type": "code",
     "collapsed": false,
     "input": [
      "import mosquitto\n",
      "import os"
     ],
     "language": "python",
     "metadata": {},
     "outputs": []
    },
    {
     "cell_type": "code",
     "collapsed": false,
     "input": [
      "client = mosquitto.Mosquitto('Subscriber-%s' % os.getpid())"
     ],
     "language": "python",
     "metadata": {},
     "outputs": []
    },
    {
     "cell_type": "code",
     "collapsed": false,
     "input": [
      "def on_connect(mosq, obj, rc):\n",
      "    if rc == 0:\n",
      "        print('Connected')\n",
      "    else:\n",
      "        print('Connection Error')\n",
      "client.on_connect = on_connect"
     ],
     "language": "python",
     "metadata": {},
     "outputs": []
    },
    {
     "cell_type": "code",
     "collapsed": false,
     "input": [
      "def on_message(mosq, obj, msg):\n",
      "    print('Topic: %s' % msg.topic)\n",
      "    print('QoS: %s' % msg.qos)\n",
      "    print('Retain: %s' % msg.retain)\n",
      "    print('Payload: %s' % msg.payload)\n",
      "    client.unsubscribe('mqtt/example')\n",
      "client.on_message = on_message"
     ],
     "language": "python",
     "metadata": {},
     "outputs": []
    },
    {
     "cell_type": "code",
     "collapsed": false,
     "input": [
      "def on_unsubscribe(mosq, obj, mid):\n",
      "    print(\"Unsubscribe with mid %s received.\" % mid)\n",
      "    client.disconnect()\n",
      "client.on_unsubscribe = on_unsubscribe"
     ],
     "language": "python",
     "metadata": {},
     "outputs": []
    },
    {
     "cell_type": "code",
     "collapsed": false,
     "input": [
      "client.connect(\"127.0.0.1\")\n",
      "client.subscribe(\"mqtt/example\", 0)"
     ],
     "language": "python",
     "metadata": {},
     "outputs": []
    },
    {
     "cell_type": "code",
     "collapsed": false,
     "input": [
      "while client.loop(timeout=1) == 0:\n",
      "    pass"
     ],
     "language": "python",
     "metadata": {},
     "outputs": []
    }
   ],
   "metadata": {}
  }
 ]
}
