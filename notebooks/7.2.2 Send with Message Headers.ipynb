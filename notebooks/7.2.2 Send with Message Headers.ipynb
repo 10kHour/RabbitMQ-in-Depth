{
 "metadata": {
  "name": ""
 },
 "nbformat": 3,
 "nbformat_minor": 0,
 "worksheets": [
  {
   "cells": [
    {
     "cell_type": "code",
     "collapsed": false,
     "input": [
      "import stomp\n",
      "import time"
     ],
     "language": "python",
     "metadata": {},
     "outputs": []
    },
    {
     "cell_type": "code",
     "collapsed": false,
     "input": [
      "conn = stomp.Connection()\n",
      "conn.start()\n",
      "conn.connect()"
     ],
     "language": "python",
     "metadata": {},
     "outputs": []
    },
    {
     "cell_type": "code",
     "collapsed": false,
     "input": [
      "conn.send(body='Example message with Headers', \n",
      "          destination='/queue/stomp-messages', \n",
      "          headers={'app-id': '7.2.2 Example', \n",
      "                   'priority': 5,\n",
      "                   'reply-to': 'reply-to-example',\n",
      "                   'timestamp': int(time.time())})"
     ],
     "language": "python",
     "metadata": {},
     "outputs": []
    },
    {
     "cell_type": "code",
     "collapsed": false,
     "input": [
      "conn.disconnect()"
     ],
     "language": "python",
     "metadata": {},
     "outputs": []
    }
   ],
   "metadata": {}
  }
 ]
}
