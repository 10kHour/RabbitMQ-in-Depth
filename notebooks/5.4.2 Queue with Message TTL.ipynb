{
 "metadata": {
  "name": ""
 },
 "nbformat": 3,
 "nbformat_minor": 0,
 "worksheets": [
  {
   "cells": [
    {
     "cell_type": "code",
     "collapsed": false,
     "input": [
      "import rabbitpy"
     ],
     "language": "python",
     "metadata": {},
     "outputs": [],
     "prompt_number": 1
    },
    {
     "cell_type": "code",
     "collapsed": false,
     "input": [
      "with rabbitpy.Connection() as connection:\n",
      "    with connection.channel() as channel:\n",
      "        queue = rabbitpy.Queue(channel, 'expiring-queue', \n",
      "                            arguments={'x-message-ttl': 1000})\n",
      "         queue.declare()"
     ],
     "language": "python",
     "metadata": {},
     "outputs": []
    }
   ],
   "metadata": {}
  }
 ]
}