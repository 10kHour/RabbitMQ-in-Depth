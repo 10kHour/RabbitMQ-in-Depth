{
 "metadata": {
  "name": ""
 },
 "nbformat": 3,
 "nbformat_minor": 0,
 "worksheets": [
  {
   "cells": [
    {
     "cell_type": "code",
     "collapsed": false,
     "input": [
      "import rabbitpy"
     ],
     "language": "python",
     "metadata": {},
     "outputs": [],
     "prompt_number": 1
    },
    {
     "cell_type": "code",
     "collapsed": false,
     "input": [
      "connection = rabbitpy.Connection()\n",
      "try:\n",
      "    with connection.channel() as channel:\n",
      "        arguments = {'x-ha-policy': 'nodes',\n",
      "                     'x-ha-nodes': ['rabbit@node1',\n",
      "                                    'rabbit@node2',\n",
      "                                    'rabbit@node3']}\n",
      "        queue = rabbitpy.Queue(channel,\n",
      "                               'my-ha-queue',               \n",
      "                               arguments=arguments)\n",
      "        if queue.declare():\n",
      "            print('Queue declared')\n",
      "except rabbitpy.exceptions.RemoteClosedChannelException as error:\n",
      "    print('Queue declare failed: %s' % error)"
     ],
     "language": "python",
     "metadata": {},
     "outputs": []
    }
   ],
   "metadata": {}
  }
 ]
}