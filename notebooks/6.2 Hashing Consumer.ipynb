{
 "metadata": {
  "name": ""
 },
 "nbformat": 3,
 "nbformat_minor": 0,
 "worksheets": [
  {
   "cells": [
    {
     "cell_type": "code",
     "collapsed": false,
     "input": [
      "import os\n",
      "import hashlib\n",
      "import rabbitpy"
     ],
     "language": "python",
     "metadata": {},
     "outputs": [],
     "prompt_number": "*"
    },
    {
     "cell_type": "code",
     "collapsed": false,
     "input": [
      "# Open the connection and the channel\n",
      "connection = rabbitpy.Connection()\n",
      "channel = connection.channel()"
     ],
     "language": "python",
     "metadata": {},
     "outputs": [],
     "prompt_number": "*"
    },
    {
     "cell_type": "code",
     "collapsed": false,
     "input": [
      "# Create the worker queue\n",
      "queue_name = 'hashing-worker-%s' % os.getpid()\n",
      "queue = rabbitpy.Queue(channel, queue_name,\n",
      "                       auto_delete=True,\n",
      "                       durable=False,\n",
      "                       exclusive=True)\n",
      "\n",
      "# Declare the worker queue\n",
      "if queue.declare():\n",
      "    print('Worker queue declared')\n",
      "\n",
      "# Bind the worker queue\n",
      "if queue.bind('fanout-rpc-requests'):\n",
      "    print('Worker queue bound')"
     ],
     "language": "python",
     "metadata": {},
     "outputs": [
     ],
     "prompt_number": "*"
    },
    {
     "cell_type": "code",
     "collapsed": false,
     "input": [
      "# Consume messages from RabbitMQ\n",
      "for message in queue.consume_messages():\n",
      "    \n",
      "    # Create the hashing object\n",
      "    hash_obj = hashlib.md5(message.body)\n",
      "    \n",
      "    # Print out the info, this might go into a database or log file\n",
      "    print('Image with correlation-id of %s has a hash of %s' % \n",
      "          (message.properties['correlation_id'], \n",
      "           hash_obj.hexdigest()))\n",
      "    \n",
      "    # Acknowledge the delivery of the RPC request message\n",
      "    message.ack()"
     ],
     "language": "python",
     "metadata": {},
     "outputs": [
     ],
     "prompt_number": "*"
    }
   ],
   "metadata": {}
  }
 ]
}
