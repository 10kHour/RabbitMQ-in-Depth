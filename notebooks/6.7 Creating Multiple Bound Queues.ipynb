{
 "metadata": {
  "name": ""
 },
 "nbformat": 3,
 "nbformat_minor": 0,
 "worksheets": [
  {
   "cells": [
    {
     "cell_type": "code",
     "collapsed": false,
     "input": [
      "import rabbitpy"
     ],
     "language": "python",
     "metadata": {},
     "outputs": [],
     "prompt_number": 1
    },
    {
     "cell_type": "code",
     "collapsed": false,
     "input": [
      "with rabbitpy.Connection() as connection:\n",
      "    with connection.channel() as channel:\n",
      "        for queue_num in range(4):\n",
      "            queue = rabbitpy.Queue (channel, 'server%s' % queue_num)\n",
      "            queue.declare()\n",
      "            queue.bind('image-storage', '10')"
     ],
     "language": "python",
     "metadata": {},
     "outputs": []
    }
   ],
   "metadata": {}
  }
 ]
}