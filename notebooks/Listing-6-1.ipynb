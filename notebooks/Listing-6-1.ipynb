{
 "metadata": {
  "name": "Listing 6.1"
 },
 "nbformat": 3,
 "nbformat_minor": 0,
 "worksheets": [
  {
   "cells": [
    {
     "cell_type": "code",
     "collapsed": false,
     "input": [
      "import rabbitpy\n",
      "\n",
      "with rabbitpy.Connection() as connection:\n",
      "    with connection.channel() as channel:\n",
      "        for exchange_name in ['rpc-replies', 'direct-rpc-requests']:\n",
      "            exchange = rabbitpy.Exchange(channel, exchange_name, \n",
      "                                         exchange_type='direct')\n",
      "            exchange.declare()\n",
      "print 'Exchanges declared'"
     ],
     "language": "python",
     "metadata": {},
     "outputs": [],
     "prompt_number": 1
    },
    {
     "cell_type": "code",
     "collapsed": false,
     "input": [],
     "language": "python",
     "metadata": {},
     "outputs": []
    }
   ],
   "metadata": {}
  }
 ]
}