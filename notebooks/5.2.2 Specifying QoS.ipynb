{
 "metadata": {
  "name": ""
 },
 "nbformat": 3,
 "nbformat_minor": 0,
 "worksheets": [
  {
   "cells": [
    {
     "cell_type": "code",
     "collapsed": false,
     "input": [
      "import rabbitpy"
     ],
     "language": "python",
     "metadata": {},
     "outputs": [],
     "prompt_number": 1
    },
    {
     "cell_type": "code",
     "collapsed": false,
     "input": [
      "with rabbitpy.Connection() as connection:\n",
      "    with connection.channel() as channel:\n",
      "        channel.prefetch_count(10)\n",
      "        queue = rabbitpy.Queue(channel, 'example')\n",
      "        for message in queue.consume_messages():\n",
      "            print message.body\n",
      "            message.ack()"
     ],
     "language": "python",
     "metadata": {},
     "outputs": []
    }
   ],
   "metadata": {}
  }
 ]
}