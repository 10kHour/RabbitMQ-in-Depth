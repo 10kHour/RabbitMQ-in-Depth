{
 "metadata": {
  "name": ""
 },
 "nbformat": 3,
 "nbformat_minor": 0,
 "worksheets": [
  {
   "cells": [
    {
     "cell_type": "code",
     "collapsed": false,
     "input": [
      "import stomp"
     ],
     "language": "python",
     "metadata": {},
     "outputs": []
    },
    {
     "cell_type": "code",
     "collapsed": false,
     "input": [
      "conn = stomp.Connection()\n",
      "conn.start()\n",
      "conn.connect()\n",
      "conn.send(body='Example Message', destination='/queue/stomp-messages')\n",
      "conn.disconnect()"
     ],
     "language": "python",
     "metadata": {},
     "outputs": []
    }
   ],
   "metadata": {}
  }
 ]
}
