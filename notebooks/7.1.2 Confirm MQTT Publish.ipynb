{
 "metadata": {
  "name": ""
 },
 "nbformat": 3,
 "nbformat_minor": 0,
 "worksheets": [
  {
   "cells": [
    {
     "cell_type": "code",
     "collapsed": false,
     "input": [
      "import rabbitpy"
     ],
     "language": "python",
     "metadata": {},
     "outputs": [],
     "prompt_number": "*"
    },
    {
     "cell_type": "code",
     "collapsed": false,
     "input": [
      "message = rabbitpy.get(queue_name='mqtt-messages')\n",
      "if message:\n",
      "    message.pprint(True)\n",
      "    message.ack()\n",
      "else:\n",
      "    print('No message in queue')"
     ],
     "language": "python",
     "metadata": {},
     "outputs": []
      }
     ],
     "prompt_number": "*"
    }
   ],
   "metadata": {}
  }
 ]
}